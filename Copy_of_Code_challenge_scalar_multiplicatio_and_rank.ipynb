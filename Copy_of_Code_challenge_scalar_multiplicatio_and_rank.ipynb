{
  "nbformat": 4,
  "nbformat_minor": 0,
  "metadata": {
    "colab": {
      "name": "Copy of Code challenge:scalar multiplicatio and rank.ipynb",
      "provenance": [],
      "authorship_tag": "ABX9TyMm4Wsh4rJ4CfkInGfRAHxc",
      "include_colab_link": true
    },
    "kernelspec": {
      "name": "python3",
      "display_name": "Python 3"
    },
    "language_info": {
      "name": "python"
    }
  },
  "cells": [
    {
      "cell_type": "markdown",
      "metadata": {
        "id": "view-in-github",
        "colab_type": "text"
      },
      "source": [
        "<a href=\"https://colab.research.google.com/github/jyotidabass/Code-challenge-scalar-multiplication-and-rank/blob/main/Copy_of_Code_challenge_scalar_multiplicatio_and_rank.ipynb\" target=\"_parent\"><img src=\"https://colab.research.google.com/assets/colab-badge.svg\" alt=\"Open In Colab\"/></a>"
      ]
    },
    {
      "cell_type": "markdown",
      "source": [
        "Test whether the rank matrix is invariant to scalar multiplication\n",
        "rank(A) not equal to rank(lxA)\n",
        "1. Create two matrices: full-rank and reduced-rank(random)\n",
        "2. Create some scalar\n",
        "3. Display ranks of matrices F, R, l x F, lx R\n",
        "4. Check whether rank(lxF)=lx rank(F)\n"
      ],
      "metadata": {
        "id": "Zv288KqoXIU3"
      }
    },
    {
      "cell_type": "code",
      "execution_count": null,
      "metadata": {
        "colab": {
          "base_uri": "https://localhost:8080/"
        },
        "id": "JCtEZtkoXHZ-",
        "outputId": "a91b4566-4d45-442a-e4d6-88cdf226e40b"
      },
      "outputs": [
        {
          "output_type": "execute_result",
          "data": {
            "text/plain": [
              "3"
            ]
          },
          "metadata": {},
          "execution_count": 2
        }
      ],
      "source": [
        "#1. Create two matrices: full rank and reduced rank(random)\n",
        "m=6\n",
        "n=4\n",
        "import numpy as np\n",
        "F=np.random.randn(m,n)*np.random.randn(n)\n",
        "R=np.random.randn(m, n-1)@np.random.randn(n-1,n)\n",
        "np.linalg.matrix_rank(R)"
      ]
    },
    {
      "cell_type": "code",
      "source": [
        "# Create some scalar\n",
        "l=123456"
      ],
      "metadata": {
        "id": "IO8x0zSIYp09"
      },
      "execution_count": null,
      "outputs": []
    },
    {
      "cell_type": "code",
      "source": [
        "# 3 Display rank of matrices F,R, l*F, l*R\n",
        "print(f\"Rank F: {np.linalg.matrix_rank(F)}\")\n",
        "print(f\"Rank l*F: {np.linalg.matrix_rank(l*F)}\")\n",
        "print(f\"Rank R: {np.linalg.matrix_rank(R)}\")\n",
        "print(f\"Rank l*R: {np.linalg.matrix_rank(l*R)}\\n\")"
      ],
      "metadata": {
        "colab": {
          "base_uri": "https://localhost:8080/"
        },
        "id": "5ZPxoviwY3IA",
        "outputId": "1dd2b8d9-5259-4b85-9ba3-a1f12031579d"
      },
      "execution_count": null,
      "outputs": [
        {
          "output_type": "stream",
          "name": "stdout",
          "text": [
            "Rank F: 4\n",
            "Rank l*F: 4\n",
            "Rank R: 3\n",
            "Rank l*R: 3\n",
            "\n"
          ]
        }
      ]
    },
    {
      "cell_type": "code",
      "source": [
        "#4. Check whether rank (l*F)==l*rank(F)\n",
        "print(f\"Rank l*F)==l*rank(F):{np.linalg.matrix_rank(l*F)==l*np.linalg.matrix_rank(F)}\")"
      ],
      "metadata": {
        "colab": {
          "base_uri": "https://localhost:8080/"
        },
        "id": "Cun6y8SyZqGO",
        "outputId": "59d4e749-ddf7-481d-9ad9-4e31e81543e1"
      },
      "execution_count": null,
      "outputs": [
        {
          "output_type": "stream",
          "name": "stdout",
          "text": [
            "Rank l*F)==l*rank(F):False\n"
          ]
        }
      ]
    }
  ]
}